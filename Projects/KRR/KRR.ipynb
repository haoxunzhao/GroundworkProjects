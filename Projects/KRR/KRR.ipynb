{
 "cells": [
  {
   "cell_type": "code",
   "execution_count": 9,
   "metadata": {},
   "outputs": [],
   "source": [
    "import numpy as np\n",
    "import scipy.io as sio\n",
    "import matplotlib.pyplot as plt\n",
    "import pdb\n",
    "import math\n",
    "import re"
   ]
  },
  {
   "cell_type": "code",
   "execution_count": 10,
   "metadata": {},
   "outputs": [],
   "source": [
    "def dist(x,c):\n",
    "    ndata,dimx = x.shape\n",
    "    ncenters, dimc = c.shape\n",
    "\n",
    "    xsum = np.sum(x**2,axis = 1)\n",
    "    xsum = xsum[:,np.newaxis]\n",
    "    csum = np.sum(c**2,axis = 1)\n",
    "    csum = csum[:,np.newaxis]\n",
    "\n",
    "    n2 =  xsum.dot(np.ones([1,ncenters]))+ np.ones([ndata,1]).dot(csum.T)- 2*x.dot(c.T)\n",
    "    return n2"
   ]
  },
  {
   "cell_type": "code",
   "execution_count": 11,
   "metadata": {},
   "outputs": [],
   "source": [
    "file = sio.loadmat('bodyfat_data.mat')\n",
    "x = file[\"X\"]\n",
    "y = file[\"y\"]\n",
    "x_train = x[0:150, :]\n",
    "x_test = x[150:, :]\n",
    "y_train = y[0:150, :]\n",
    "y_test = y[150:, :]\n",
    "lam = 0.003\n",
    "sigma = 15\n",
    "n, d = x_train.shape"
   ]
  },
  {
   "cell_type": "code",
   "execution_count": 12,
   "metadata": {},
   "outputs": [
    {
     "data": {
      "text/plain": [
       "(150, 2)"
      ]
     },
     "execution_count": 12,
     "metadata": {},
     "output_type": "execute_result"
    }
   ],
   "source": [
    "x_train.shape"
   ]
  },
  {
   "cell_type": "code",
   "execution_count": 13,
   "metadata": {},
   "outputs": [],
   "source": [
    "# KRR without offset\n",
    "K_temp = dist(x_train, x_train)/(-2*sigma**2)\n",
    "K=[]\n",
    "for i in K_temp:\n",
    "    K_sub = [math.exp(j) for j in i]\n",
    "    K.append(K_sub)\n",
    "K = np.array(K)\n",
    "alpha = np.linalg.inv(K+np.eye(n)*lam*n)@y_train\n",
    "\n",
    "K_test_temp = dist(x_train, x_test)/(-2*sigma**2)\n",
    "K_test = []\n",
    "for i in K_test_temp:\n",
    "    K_test_sub = [math.exp(j) for j in i]\n",
    "    K_test.append(K_test_sub)\n",
    "K_test = np.array(K_test)"
   ]
  },
  {
   "cell_type": "code",
   "execution_count": 14,
   "metadata": {},
   "outputs": [
    {
     "name": "stdout",
     "output_type": "stream",
     "text": [
      "KRR without offset\n",
      "training error:  [19.2495644]\n",
      "test error:  [26.39690561]\n"
     ]
    }
   ],
   "source": [
    "y_pre_train = alpha.T@K\n",
    "y_pre_test = alpha.T@K_test\n",
    "error_train = np.average((y_pre_train-y_train.T)**2, axis=1)\n",
    "error_test = np.average((y_pre_test-y_test.T)**2, axis=1)\n",
    "print(\"KRR without offset\")\n",
    "print(\"training error: \", error_train)\n",
    "print(\"test error: \", error_test)"
   ]
  },
  {
   "cell_type": "code",
   "execution_count": 15,
   "metadata": {},
   "outputs": [],
   "source": [
    "# KRR with offset b\n",
    "n_test, d = x_test.shape\n",
    "O = np.ones((n,n))*(1/n)\n",
    "K_centered = K - K@O - O@K + O@K@O\n",
    "\n",
    "O_test = np.ones((n,n_test))*(1/n)\n",
    "K_test_centered = K_test - O@K_test - K@O_test + O@K@O_test\n",
    "\n",
    "y_train_bar = np.average(y_train, axis=0)\n",
    "y_train_centered = y_train - y_train_bar\n",
    "y_offset_pre_train = y_train_bar + y_train_centered.T\\\n",
    "                     @np.linalg.inv(K_centered + (n*lam)*np.eye(n))@K_centered\n",
    "y_offset_pre_test = y_train_bar + y_train_centered.T\\\n",
    "                     @np.linalg.inv(K_centered + (n*lam)*np.eye(n))@K_test_centered\n",
    "\n",
    "O_b = np.ones((n,1))*(1/n)\n",
    "\n",
    "b = y_train_bar - y_train_centered.T@np.linalg.inv(K_centered+np.eye(n)*n*lam)@(K@O_b-O@K@O_b)"
   ]
  },
  {
   "cell_type": "code",
   "execution_count": 16,
   "metadata": {},
   "outputs": [
    {
     "name": "stdout",
     "output_type": "stream",
     "text": [
      "KRR with offset\n",
      "training error:  [19.01686065]\n",
      "test error:  [23.53586025]\n",
      "b: [[19.42947537]]\n"
     ]
    }
   ],
   "source": [
    "\n",
    "error_train = np.average((y_offset_pre_train-y_train.T)**2, axis=1)\n",
    "error_test = np.average((y_offset_pre_test-y_test.T)**2, axis=1)\n",
    "print(\"KRR with offset\")\n",
    "print(\"training error: \", error_train)\n",
    "print(\"test error: \", error_test)\n",
    "print(\"b:\",b)"
   ]
  },
  {
   "cell_type": "markdown",
   "metadata": {},
   "source": [
    "It seems like the offset makes little contribution to the final performance in KRR model."
   ]
  }
 ],
 "metadata": {
  "kernelspec": {
   "display_name": "Python 3",
   "language": "python",
   "name": "python3"
  },
  "language_info": {
   "codemirror_mode": {
    "name": "ipython",
    "version": 3
   },
   "file_extension": ".py",
   "mimetype": "text/x-python",
   "name": "python",
   "nbconvert_exporter": "python",
   "pygments_lexer": "ipython3",
   "version": "3.6.6"
  }
 },
 "nbformat": 4,
 "nbformat_minor": 2
}
