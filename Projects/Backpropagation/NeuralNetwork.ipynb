{
 "cells": [
  {
   "cell_type": "code",
   "execution_count": 1,
   "metadata": {},
   "outputs": [],
   "source": [
    "import numpy as np\n",
    "import scipy.io as sio\n",
    "import matplotlib.pyplot as plt"
   ]
  },
  {
   "cell_type": "code",
   "execution_count": 2,
   "metadata": {},
   "outputs": [],
   "source": [
    "file = sio.loadmat('bodyfat_data.mat')\n",
    "x = file[\"X\"]\n",
    "y = file[\"y\"]\n",
    "x_train = x[0:150, :].T\n",
    "x_test = x[150:, :].T\n",
    "y_train = y[0:150, :].T\n",
    "y_test = y[150:, :].T\n",
    "m,n = x_train.shape\n",
    "np.random.seed(0)\n",
    "w1 = np.random.rand(64,m)\n",
    "b1 = np.zeros((64,1))\n",
    "w2 = np.random.rand(16,64)\n",
    "b2 = np.zeros((16,1))\n",
    "w3 = np.random.rand(1,16)\n",
    "b3 = 0\n",
    "alpha = 1e-7"
   ]
  },
  {
   "cell_type": "code",
   "execution_count": 3,
   "metadata": {},
   "outputs": [],
   "source": [
    "def fp(w1,w2,w3,b1,b2,b3,x,y):\n",
    "    a1 = w1@x+b1\n",
    "    z1 = np.maximum(a1,0)\n",
    "    a2 = w2@z1+b2\n",
    "    z2 = np.maximum(a2,0)\n",
    "    pre = w3@z2+b3\n",
    "    lms = np.average((pre-y)**2)\n",
    "    return pre,lms,a1,z1,a2,z2"
   ]
  },
  {
   "cell_type": "code",
   "execution_count": 4,
   "metadata": {},
   "outputs": [],
   "source": [
    "def bp(w1,w2,w3,b1,b2,b3,a1,z1,a2,z2,x,y,pre):\n",
    "    tem3 = -2*(y-pre)\n",
    "    dw3 = tem3@z2.T\n",
    "    db3 = np.sum(tem3,axis=1)\n",
    "\n",
    "    desig2 = (a2 > 0).astype(np.int16) \n",
    "    tem2 = w3.T@tem3*desig2\n",
    "    dw2 = tem2@z1.T\n",
    "    db2 = np.sum(tem2,axis=1)[:,None]\n",
    "\n",
    "    desig1 = (a1 > 0).astype(np.int16)\n",
    "    tem1 = w2.T@tem2*desig1\n",
    "    dw1 = tem1@x.T\n",
    "    db1 = np.sum(tem1,axis=1)[:,None]\n",
    "    \n",
    "    return dw1,dw2,dw3,db1,db2,db3"
   ]
  },
  {
   "cell_type": "code",
   "execution_count": 7,
   "metadata": {},
   "outputs": [
    {
     "data": {
      "text/plain": [
       "(1, 150)"
      ]
     },
     "execution_count": 7,
     "metadata": {},
     "output_type": "execute_result"
    }
   ],
   "source": [
    "x_train.shape\n",
    "y_train.shape"
   ]
  },
  {
   "cell_type": "code",
   "execution_count": 157,
   "metadata": {},
   "outputs": [],
   "source": [
    "lis = list()\n",
    "while True:\n",
    "    pre,lms,a1,z1,a2,z2 = fp(w1,w2,w3,b1,b2,b3,x_train,y_train)\n",
    "    if lms < 65:\n",
    "        break\n",
    "    lis.append(lms)\n",
    "    dw1,dw2,dw3,db1,db2,db3 = bp(w1,w2,w3,b1,b2,b3,a1,z1,a2,z2,x_train,y_train,pre)\n",
    "    w1 -= alpha*dw1\n",
    "    w2 -= alpha*dw2\n",
    "    w3 -= alpha*dw3\n",
    "\n",
    "    b3 -= alpha*db3\n",
    "    b2 -= alpha*db2\n",
    "    b1 -= alpha*db1"
   ]
  },
  {
   "cell_type": "code",
   "execution_count": 158,
   "metadata": {},
   "outputs": [
    {
     "name": "stdout",
     "output_type": "stream",
     "text": [
      "Mean square error of Training data: 65.00004146807325\n",
      "Mean square error of Training data: 82.40184069015024\n"
     ]
    }
   ],
   "source": [
    "_,lms_t,_,_,_,_ = fp(w1,w2,w3,b1,b2,b3,x_test,y_test)\n",
    "print(\"Mean square error of Training data:\",lis[-1])\n",
    "print(\"Mean square error of Training data:\",lms_t)"
   ]
  },
  {
   "cell_type": "code",
   "execution_count": 159,
   "metadata": {},
   "outputs": [
    {
     "data": {
      "text/plain": [
       "[<matplotlib.lines.Line2D at 0x1ee1d23e5c0>]"
      ]
     },
     "execution_count": 159,
     "metadata": {},
     "output_type": "execute_result"
    },
    {
     "data": {
      "image/png": "[encoded data removed]",
      "text/plain": [
       "<Figure size 432x288 with 1 Axes>"
      ]
     },
     "metadata": {
      "needs_background": "light"
     },
     "output_type": "display_data"
    }
   ],
   "source": [
    "x = np.arange(len(lis)-1)\n",
    "plt.plot(x,lis[1:])"
   ]
  },
  {
   "cell_type": "code",
   "execution_count": null,
   "metadata": {},
   "outputs": [],
   "source": []
  }
 ],
 "metadata": {
  "kernelspec": {
   "display_name": "Python 3",
   "language": "python",
   "name": "python3"
  },
  "language_info": {
   "codemirror_mode": {
    "name": "ipython",
    "version": 3
   },
   "file_extension": ".py",
   "mimetype": "text/x-python",
   "name": "python",
   "nbconvert_exporter": "python",
   "pygments_lexer": "ipython3",
   "version": "3.6.6"
  }
 },
 "nbformat": 4,
 "nbformat_minor": 2
}
